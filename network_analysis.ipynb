{
 "cells": [
  {
   "cell_type": "code",
   "execution_count": 3,
   "metadata": {},
   "outputs": [],
   "source": [
    "#exel\n",
    "import openpyxl as xl\n",
    "import os\n",
    "#arcpy\n",
    "from arcpy import *\n",
    "import random\n",
    "#API\n",
    "import requests\n",
    "import datetime\n",
    "#\n",
    "import json"
   ]
  },
  {
   "cell_type": "code",
   "execution_count": 60,
   "metadata": {},
   "outputs": [],
   "source": [
    "#programme qui parcours les dossier et raite chacun d'eux\n",
    "def extract_traffic_data(chemin_dossier):\n",
    "    fichiers = [fichier for fichier in os.listdir(chemin_dossier) if os.path.isfile(os.path.join(chemin_dossier, fichier))]\n",
    "    for fichier in fichiers:\n",
    "        file_path=os.path.join(chemin_dossier,fichier)            \n",
    "    data_tuples = []\n",
    "    with open(file_path, 'r') as file:\n",
    "        for line in file:\n",
    "                data = json.loads(line)\n",
    "                data_tuple =[(data['road_id'], data['traffic_jam_ratio'])]\n",
    "                data_tuples.append(data_tuple)\n",
    "    return (data_tuples)[0]\n",
    "\n",
    "def creer_point(shp_nom, x, y, nom):\n",
    "    arcpy.CreateFeatureclass_management(r\"C:\\Users\\lenovo\\Desktop\\projet\",shp_nom, \"POINT\",spatial_reference=\"2154\")\n",
    "    arcpy.AddField_management(os.path.join(r\"C:\\Users\\lenovo\\Desktop\\projet\",shp_nom), \"Nom\", \"TEXT\")\n",
    "    with arcpy.da.InsertCursor(os.path.join(r\"C:\\Users\\lenovo\\Desktop\\projet\",shp_nom), [\"SHAPE@XY\", \"Nom\"]) as cursor:\n",
    "        cursor.insertRow([(x, y), nom])\n",
    "def lire_coordonnees_deux_points(chemin_dossier):\n",
    "    nom_fichier=os.path.join(chemin_dossier,\"coordonees.txt\")\n",
    "    with open(nom_fichier, 'r') as fichier:\n",
    "        lignes = fichier.readlines()\n",
    "        coordonnees_point1X = (lignes[0].split(\":\")[1].split(\",\")[0])\n",
    "        coordonnees_point1Y = ( lignes[0].split(\":\")[1].split(\",\")[1])[:-1]\n",
    "        coordonnees_point2X = ( lignes[0].split(\":\")[1].split(\",\")[0])\n",
    "        coordonnees_point2Y = (lignes[0].split(\":\")[1].split(\",\")[1])[:-1]\n",
    "\n",
    "        return [coordonnees_point1X, coordonnees_point1Y,coordonnees_point2X, coordonnees_point2Y]       \n"
   ]
  },
  {
   "cell_type": "code",
   "execution_count": null,
   "metadata": {},
   "outputs": [],
   "source": [
    "## Modifier les données 1er cas (au cas ou on a traiter toutes les données au temps reel )\n",
    "#ajouter le champ temps pour toutes les routes a l aide de leur id a partir d'un dossier contenant toutes les fichier jsons\n",
    "#on suppose que toutes les fichiers json obtenu sont stockés dans un dossier a l aide d une api\n",
    "\n",
    "#id_time list  contient des tuples exemple [(id1,taux1),(id2,taux2),....]\n",
    "chemin_dossier=r\"C:\\Users\\lenovo\\Desktop\\data\"\n",
    "layer_path=r\"C:\\Users\\lenovo\\Desktop\\projet\\hacka.mdb\\network\\paris_route\"\n",
    "id_time_list=extract_traffic_data(chemin_dossier)\n",
    "time_field_name = 'Temps'\n",
    "if not arcpy.ListFields(layer_path, time_field_name):\n",
    "    arcpy.AddField_management(layer_path, time_field_name, 'DOUBLE')    \n",
    "id_time_dict = dict(id_time_list)\n",
    "with arcpy.da.UpdateCursor(layer_path, ['ID', time_field_name]) as cursor:\n",
    "    for row in cursor:\n",
    "        route_id = row[0]\n",
    "        if route_id in id_time_dict:\n",
    "            row[1] = id_time_dict[route_id]\n",
    "        else:\n",
    "            row[1] = 0  \n",
    "        cursor.updateRow(row)"
   ]
  },
  {
   "cell_type": "code",
   "execution_count": 15,
   "metadata": {},
   "outputs": [],
   "source": [
    "## Modifier les données 2eme ajouter les retard aleatoire (car le server ne supporte pas un grand traitement de toutes les données)\n",
    "#utilise pour remplir le champs temps avec des valeur aleatoire (car le server ne supporte pas un grand traitement de toutes les données)\n",
    "def add_random_time_field(shapefile_path):\n",
    "    time_field_name = 'Temps_AL'\n",
    "    field_names = [field.name for field in arcpy.ListFields(shapefile_path)]\n",
    "    \n",
    "    if time_field_name not in field_names:\n",
    "        arcpy.AddField_management(shapefile_path, time_field_name, 'DOUBLE')\n",
    "    \n",
    "    with arcpy.da.UpdateCursor(shapefile_path, [time_field_name]) as cursor:\n",
    "        for row in cursor:\n",
    "            random_time = random.uniform(10, 60)\n",
    "            row[0] = random_time\n",
    "            cursor.updateRow(row)"
   ]
  },
  {
   "cell_type": "code",
   "execution_count": 27,
   "metadata": {},
   "outputs": [
    {
     "name": "stdout",
     "output_type": "stream",
     "text": [
      "Itinéraire optimal créé avec succès.\n"
     ]
    }
   ],
   "source": [
    "# Remplacez par les coordonnées réelles a partir d'un fichier texte contenant les coordonéées \n",
    "#donné par l'utilisateur dans la page web\n",
    "#traitement en fct de temps\n",
    "\n",
    "X_start=lire_coordonnees_deux_points(chemin_dossier)[0]\n",
    "Y_start=lire_coordonnees_deux_points(chemin_dossier)[1]\n",
    "X_end=lire_coordonnees_deux_points(chemin_dossier)[2]\n",
    "Y_end=lire_coordonnees_deux_points(chemin_dossier)[3]\n",
    "\n",
    "\n",
    "network= r\"C:\\Users\\lenovo\\Desktop\\projet\\hacka.mdb\\network\\network_ND\"\n",
    "env.workspace=r\"C:\\Users\\lenovo\\Desktop\\projet\"\n",
    "\n",
    "try:\n",
    "    route_layer = na.MakeRouteLayer(network, \"RouteOptimale\", \"time\")\n",
    "except:\n",
    "    arcpy.management.Delete(\"RouteOptimale\")\n",
    "    route_layer = na.MakeRouteLayer(network, \"RouteOptimale\", \"time\")\n",
    "\n",
    "\n",
    "try:\n",
    "    creer_point(\"point_depart.shp\",X_start, Y_start,\"point_depart\")\n",
    "except:\n",
    "    arcpy.management.Delete(\"point_depart.shp\")\n",
    "    creer_point(\"point_depart.shp\",X_start, Y_start,\"point_depart\")\n",
    "    \n",
    "try:\n",
    "    creer_point(\"point_arrive.shp\",X_end, Y_end,\"point_arrive\")\n",
    "except:\n",
    "    arcpy.management.Delete(\"point_arrive.shp\")\n",
    "    creer_point(\"point_arrive.shp\",X_end, Y_end,\"point_arrive\")\n",
    "    \n",
    "try:\n",
    "    arcpy.MakeFeatureLayer_management(\"point_depart.shp\", \"point_depart_lyr\")\n",
    "except:\n",
    "    arcpy.management.Delete(\"point_depart_lyr\")\n",
    "    arcpy.MakeFeatureLayer_management(\"point_depart.shp\", \"point_depart_lyr\")\n",
    "    \n",
    "try:\n",
    "    arcpy.MakeFeatureLayer_management(\"point_arrive.shp\", \"point_arrive_lyr\")\n",
    "except:\n",
    "    arcpy.management.Delete(\"point_arrive_lyr\")\n",
    "    arcpy.MakeFeatureLayer_management(\"point_arrive.shp\", \"point_arrive_lyr\")\n",
    "\n",
    "\n",
    "# Use the feature layers in AddLocations\n",
    "na.AddLocations(route_layer, \"Stops\", \"point_depart_lyr\", \"\", \"\")\n",
    "na.AddLocations(route_layer, \"Stops\", \"point_arrive_lyr\", \"\", \"\")\n",
    "\n",
    "group_layer=na.Solve(route_layer).getOutput(0)\n",
    "route_sublayer=arcpy.mapping.ListLayers(group_layer, \"RouteOptimale\")[0]\n",
    "route_optimale=arcpy.mapping.ListLayers(route_sublayer,\"Routes\")[0]\n",
    "try:\n",
    "    arcpy.management.CopyFeatures(route_optimale, \"Itineraire_Optimal.shp\")\n",
    "except:\n",
    "    arcpy.management.Delete(chemin_path)\n",
    "    arcpy.management.CopyFeatures(route_optimale, \"Itineraire_Optimal.shp\")\n"
   ]
  },
  {
   "cell_type": "code",
   "execution_count": null,
   "metadata": {},
   "outputs": [],
   "source": [
    "import geopandas as gpd # a installer \n",
    "# ecrire le resultat \"json\" dans un fichier texte(insupportable par python2.0 mais il faut le traiter sur python3 pyzo par exemple)\n",
    "texte_path=os.path.join(chemin_dossier,\"chemin_optimal.txt\")\n",
    "shapefile_path =\"Itineraire_Optimal.shp\"\n",
    "\n",
    "gdf = gpd.read_file(shapefile_path)\n",
    "\n",
    "geojson_result = gdf.to_json()\n",
    "with open(texte_path, 'a') as fichier:\n",
    "    fichier.write(geojson_result)\n"
   ]
  },
  {
   "cell_type": "code",
   "execution_count": null,
   "metadata": {},
   "outputs": [],
   "source": []
  }
 ],
 "metadata": {
  "kernelspec": {
   "display_name": "Python 2",
   "language": "python",
   "name": "python2"
  },
  "language_info": {
   "codemirror_mode": {
    "name": "ipython",
    "version": 2
   },
   "file_extension": ".py",
   "mimetype": "text/x-python",
   "name": "python",
   "nbconvert_exporter": "python",
   "pygments_lexer": "ipython2",
   "version": "2.7.16"
  }
 },
 "nbformat": 4,
 "nbformat_minor": 2
}
