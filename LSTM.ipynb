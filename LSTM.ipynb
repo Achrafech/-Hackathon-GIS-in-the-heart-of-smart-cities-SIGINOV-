{
  "nbformat": 4,
  "nbformat_minor": 0,
  "metadata": {
    "colab": {
      "provenance": []
    },
    "kernelspec": {
      "name": "python3",
      "display_name": "Python 3"
    },
    "language_info": {
      "name": "python"
    }
  },
  "cells": [
    {
      "cell_type": "code",
      "execution_count": null,
      "metadata": {
        "id": "GcLIt5PGwDCp"
      },
      "outputs": [],
      "source": []
    },
    {
      "cell_type": "code",
      "source": [
        "import json\n",
        "import numpy as np\n",
        "from sklearn.preprocessing import MinMaxScaler\n",
        "from keras.models import Sequential\n",
        "from keras.layers import LSTM, Dense\n",
        "from sklearn.model_selection import train_test_split\n",
        "\n",
        "# Load and preprocess data\n",
        "def load_data(file_path):\n",
        "    with open(file_path, 'r') as file:\n",
        "        return [json.loads(line) for line in file]\n",
        "\n",
        "def create_dataset(data, look_back=1):\n",
        "    X, Y = [], []\n",
        "    for i in range(len(data) - look_back - 1):\n",
        "        a = data[i:(i + look_back), 0]\n",
        "        X.append(a)\n",
        "        Y.append(data[i + look_back, 0])\n",
        "    return np.array(X), np.array(Y)\n",
        "\n",
        "\n",
        "file_path = '/content/traffic_data.json'\n",
        "data = load_data(file_path)\n",
        "traffic_jam_ratios = np.array([item['traffic_jam_ratio'] for item in data])\n",
        "\n",
        "\n",
        "scaler = MinMaxScaler(feature_range=(0, 1))\n",
        "traffic_jam_ratios = scaler.fit_transform(traffic_jam_ratios.reshape(-1, 1))\n",
        "\n",
        "\n",
        "look_back = 3\n",
        "X, Y = create_dataset(traffic_jam_ratios, look_back)\n",
        "X = np.reshape(X, (X.shape[0], look_back, 1))\n",
        "\n",
        "\n",
        "X_train, X_test, Y_train, Y_test = train_test_split(X, Y, test_size=0.2, random_state=42)\n",
        "\n",
        "\n",
        "model = Sequential()\n",
        "model.add(LSTM(4, input_shape=(look_back, 1)))\n",
        "model.add(Dense(1))\n",
        "model.compile(loss='mean_squared_error', optimizer='adam')\n",
        "model.fit(X_train, Y_train, epochs=10, batch_size=1, verbose=2)\n",
        "\n",
        "\n",
        "train_score = model.evaluate(X_train, Y_train, verbose=0)\n",
        "print('Train Score: ', train_score)\n",
        "test_score = model.evaluate(X_test, Y_test, verbose=0)\n",
        "print('Test Score: ', test_score)\n"
      ],
      "metadata": {
        "colab": {
          "base_uri": "https://localhost:8080/"
        },
        "id": "r8aa-Fr-wUE9",
        "outputId": "517f254a-8679-41ad-f351-9fd72ad27f1e"
      },
      "execution_count": 3,
      "outputs": [
        {
          "output_type": "stream",
          "name": "stdout",
          "text": [
            "Epoch 1/10\n",
            "9503/9503 - 22s - loss: 0.0020 - 22s/epoch - 2ms/step\n",
            "Epoch 2/10\n",
            "9503/9503 - 21s - loss: 0.0016 - 21s/epoch - 2ms/step\n",
            "Epoch 3/10\n",
            "9503/9503 - 20s - loss: 0.0015 - 20s/epoch - 2ms/step\n",
            "Epoch 4/10\n",
            "9503/9503 - 21s - loss: 0.0015 - 21s/epoch - 2ms/step\n",
            "Epoch 5/10\n",
            "9503/9503 - 20s - loss: 0.0015 - 20s/epoch - 2ms/step\n",
            "Epoch 6/10\n",
            "9503/9503 - 23s - loss: 0.0015 - 23s/epoch - 2ms/step\n",
            "Epoch 7/10\n",
            "9503/9503 - 20s - loss: 0.0015 - 20s/epoch - 2ms/step\n",
            "Epoch 8/10\n",
            "9503/9503 - 21s - loss: 0.0015 - 21s/epoch - 2ms/step\n",
            "Epoch 9/10\n",
            "9503/9503 - 20s - loss: 0.0015 - 20s/epoch - 2ms/step\n",
            "Epoch 10/10\n",
            "9503/9503 - 20s - loss: 0.0015 - 20s/epoch - 2ms/step\n",
            "Train Score:  0.0014447092544287443\n",
            "Test Score:  0.0012291234452277422\n"
          ]
        }
      ]
    },
    {
      "cell_type": "code",
      "source": [],
      "metadata": {
        "id": "LwC4oroKwkpH"
      },
      "execution_count": null,
      "outputs": []
    }
  ]
}